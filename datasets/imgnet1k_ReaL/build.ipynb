{
 "cells": [
  {
   "cell_type": "code",
   "execution_count": 1,
   "metadata": {},
   "outputs": [],
   "source": [
    "# To handle relative importing\n",
    "import os\n",
    "import sys\n",
    "module_paths = [\n",
    "    os.path.abspath(os.path.join('../..')),\n",
    "]\n",
    "for module_path in module_paths:\n",
    "    if module_path not in sys.path:\n",
    "        sys.path.append(module_path)"
   ]
  },
  {
   "cell_type": "code",
   "execution_count": 2,
   "metadata": {},
   "outputs": [],
   "source": [
    "%load_ext autoreload\n",
    "%autoreload 2\n",
    "# import necessary files\n",
    "from tqdm import tqdm\n",
    "import json\n",
    "import random\n",
    "import numpy as np\n",
    "import matplotlib.pyplot as plt"
   ]
  },
  {
   "cell_type": "code",
   "execution_count": 5,
   "metadata": {},
   "outputs": [],
   "source": [
    "val_path = '/root/dataset/val'\n",
    "json_path = 'val.json'\n",
    "class_index_path = '/root/CS570-Final-Project/datasets/imagenet_class_index.json'\n",
    "real_json = '/root/related_works/reassessed-imagenet/real.json'"
   ]
  },
  {
   "cell_type": "code",
   "execution_count": 6,
   "metadata": {},
   "outputs": [],
   "source": [
    "with open(class_index_path, 'r') as f:\n",
    "    class_index = json.load(f)\n",
    "with open(json_path, 'r') as f:\n",
    "    val_json = json.load(f)\n",
    "with open(real_json, 'r') as f:\n",
    "    real_json = json.load(f)"
   ]
  },
  {
   "cell_type": "code",
   "execution_count": null,
   "metadata": {},
   "outputs": [],
   "source": [
    "# traverse images under val_path, sort by name\n",
    "val_imgs = os.listdir(val_path)\n",
    "val_imgs.sort()\n"
   ]
  }
 ],
 "metadata": {
  "kernelspec": {
   "display_name": "cs570_t23",
   "language": "python",
   "name": "python3"
  },
  "language_info": {
   "codemirror_mode": {
    "name": "ipython",
    "version": 3
   },
   "file_extension": ".py",
   "mimetype": "text/x-python",
   "name": "python",
   "nbconvert_exporter": "python",
   "pygments_lexer": "ipython3",
   "version": "3.11.3"
  },
  "orig_nbformat": 4
 },
 "nbformat": 4,
 "nbformat_minor": 2
}
