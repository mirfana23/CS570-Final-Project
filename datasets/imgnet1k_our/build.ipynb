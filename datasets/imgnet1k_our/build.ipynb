{
 "cells": [
  {
   "cell_type": "code",
   "execution_count": 1,
   "metadata": {},
   "outputs": [],
   "source": [
    "# To handle relative importing\n",
    "import os\n",
    "import sys\n",
    "module_paths = [\n",
    "    os.path.abspath(os.path.join('../..')),\n",
    "]\n",
    "for module_path in module_paths:\n",
    "    if module_path not in sys.path:\n",
    "        sys.path.append(module_path)"
   ]
  },
  {
   "cell_type": "code",
   "execution_count": 2,
   "metadata": {},
   "outputs": [],
   "source": [
    "%load_ext autoreload\n",
    "%autoreload 2\n",
    "# import necessary files\n",
    "from tqdm import tqdm\n",
    "import json\n",
    "import random\n",
    "import numpy as np\n",
    "import matplotlib.pyplot as plt"
   ]
  },
  {
   "cell_type": "code",
   "execution_count": 3,
   "metadata": {},
   "outputs": [],
   "source": [
    "train_path = '/root/dataset/train'\n",
    "train_json_path = 'train0.json'\n",
    "class_index_path = '/root/CS570-Final-Project/datasets/imagenet_class_index.json'"
   ]
  },
  {
   "cell_type": "code",
   "execution_count": 9,
   "metadata": {},
   "outputs": [],
   "source": [
    "with open(class_index_path) as f:\n",
    "    class_index = json.load(f)\n",
    "\n",
    "# id to index mapping\n",
    "id_to_index = {}\n",
    "for k, v in class_index.items():\n",
    "    id_to_index[v[0]] = int(k)"
   ]
  },
  {
   "cell_type": "code",
   "execution_count": 8,
   "metadata": {},
   "outputs": [
    {
     "data": {
      "text/plain": [
       "1000"
      ]
     },
     "execution_count": 8,
     "metadata": {},
     "output_type": "execute_result"
    }
   ],
   "source": [
    "train_img_folders = os.listdir(train_path)\n",
    "train_img_folders = [folder for folder in train_img_folders if os.path.isdir(os.path.join(train_path, folder))]\n",
    "len(train_img_folders)"
   ]
  },
  {
   "cell_type": "code",
   "execution_count": 10,
   "metadata": {},
   "outputs": [
    {
     "name": "stderr",
     "output_type": "stream",
     "text": [
      "100%|██████████| 1000/1000 [00:04<00:00, 203.50it/s]\n"
     ]
    }
   ],
   "source": [
    "# traverse all the folders\n",
    "train_json = {}\n",
    "train_json['data'] = []\n",
    "for folder in tqdm(train_img_folders):\n",
    "    # traverse all the images\n",
    "    img_names = os.listdir(os.path.join(train_path, folder))\n",
    "    # it should be JPEG\n",
    "    img_names = [img_name for img_name in img_names if img_name.endswith('.JPEG')]\n",
    "    for img_name in img_names:\n",
    "        img_path = os.path.join(train_path, folder, img_name)\n",
    "        train_json['data'].append({\n",
    "            'img_path': img_path,\n",
    "            'labels': [id_to_index[folder]]\n",
    "        })"
   ]
  },
  {
   "cell_type": "code",
   "execution_count": 11,
   "metadata": {},
   "outputs": [],
   "source": [
    "# save the json\n",
    "with open(train_json_path, 'w') as f:\n",
    "    json.dump(train_json, f)"
   ]
  }
 ],
 "metadata": {
  "kernelspec": {
   "display_name": "cs570_t23",
   "language": "python",
   "name": "python3"
  },
  "language_info": {
   "codemirror_mode": {
    "name": "ipython",
    "version": 3
   },
   "file_extension": ".py",
   "mimetype": "text/x-python",
   "name": "python",
   "nbconvert_exporter": "python",
   "pygments_lexer": "ipython3",
   "version": "3.11.3"
  },
  "orig_nbformat": 4
 },
 "nbformat": 4,
 "nbformat_minor": 2
}
