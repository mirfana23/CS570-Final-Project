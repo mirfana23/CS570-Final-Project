{
 "cells": [
  {
   "cell_type": "code",
   "execution_count": 1,
   "metadata": {},
   "outputs": [],
   "source": [
    "# To handle relative importing\n",
    "import os\n",
    "import sys\n",
    "module_paths = [\n",
    "    os.path.abspath(os.path.join('../..')),\n",
    "]\n",
    "for module_path in module_paths:\n",
    "    if module_path not in sys.path:\n",
    "        sys.path.append(module_path)"
   ]
  },
  {
   "cell_type": "code",
   "execution_count": 2,
   "metadata": {},
   "outputs": [],
   "source": [
    "%load_ext autoreload\n",
    "%autoreload 2\n",
    "# import necessary files\n",
    "from tqdm import tqdm\n",
    "import json\n",
    "import random\n",
    "import numpy as np\n",
    "import matplotlib.pyplot as plt"
   ]
  },
  {
   "cell_type": "code",
   "execution_count": 3,
   "metadata": {},
   "outputs": [],
   "source": [
    "val_path = '/root/dataset/val'\n",
    "val_json_path = 'val.json'\n",
    "class_index_path = '/root/CS570-Final-Project/datasets/imagenet_class_index.json'\n",
    "orig_ground_truth_path = '/root/CS570-Final-Project/datasets/ILSVRC2015_clsloc_validation_ground_truth.txt'\n",
    "orig_label_desc_path = '/root/CS570-Final-Project/datasets/map_clsloc.txt'"
   ]
  },
  {
   "cell_type": "code",
   "execution_count": 4,
   "metadata": {},
   "outputs": [],
   "source": [
    "with open(class_index_path) as f:\n",
    "    class_index = json.load(f)\n",
    "with open(orig_label_desc_path) as f:\n",
    "    orig_label_desc = f.readlines()\n",
    "with open(orig_ground_truth_path) as f:\n",
    "    orig_ground_truth = f.readlines()\n",
    "with open(val_json_path) as f:\n",
    "    val_json = json.load(f)"
   ]
  },
  {
   "cell_type": "code",
   "execution_count": 5,
   "metadata": {},
   "outputs": [
    {
     "data": {
      "text/plain": [
       "50000"
      ]
     },
     "execution_count": 5,
     "metadata": {},
     "output_type": "execute_result"
    }
   ],
   "source": [
    "# traverse images under val_path, sort by name\n",
    "val_imgs_files = os.listdir(val_path)\n",
    "val_imgs_files.sort()\n",
    "img_extension = '.JPEG'\n",
    "# remove the files without extension .JPEG\n",
    "val_imgs_files = [f for f in val_imgs_files if f.endswith(img_extension)]\n",
    "len(val_imgs_files)"
   ]
  },
  {
   "cell_type": "code",
   "execution_count": 6,
   "metadata": {},
   "outputs": [],
   "source": [
    "orig_label_desc = [l.strip().split() for l in orig_label_desc]\n",
    "orig_ground_truth = [l.strip() for l in orig_ground_truth]"
   ]
  },
  {
   "cell_type": "code",
   "execution_count": 7,
   "metadata": {},
   "outputs": [],
   "source": [
    "orig_idx_to_id = {\n",
    "    l[1]: l[0] for l in orig_label_desc\n",
    "}\n",
    "final_id_to_idx = {\n",
    "    v[0]: k for k,v in class_index.items()\n",
    "}"
   ]
  },
  {
   "cell_type": "code",
   "execution_count": 8,
   "metadata": {},
   "outputs": [],
   "source": [
    "val_json['data'] = []\n",
    "for idx, val_img_file in enumerate(val_imgs_files):\n",
    "    val_img_path = os.path.join(val_path, val_img_file)\n",
    "    val_json['data'].append({\n",
    "        'img_path': val_img_path,\n",
    "        'labels': [int(final_id_to_idx[orig_idx_to_id[orig_ground_truth[idx]]])]\n",
    "    })"
   ]
  },
  {
   "cell_type": "code",
   "execution_count": 9,
   "metadata": {},
   "outputs": [],
   "source": [
    "with open(val_json_path, 'w') as f:\n",
    "    json.dump(val_json, f)"
   ]
  },
  {
   "cell_type": "code",
   "execution_count": null,
   "metadata": {},
   "outputs": [],
   "source": []
  }
 ],
 "metadata": {
  "kernelspec": {
   "display_name": "cs570_t23",
   "language": "python",
   "name": "python3"
  },
  "language_info": {
   "codemirror_mode": {
    "name": "ipython",
    "version": 3
   },
   "file_extension": ".py",
   "mimetype": "text/x-python",
   "name": "python",
   "nbconvert_exporter": "python",
   "pygments_lexer": "ipython3",
   "version": "3.11.3"
  },
  "orig_nbformat": 4
 },
 "nbformat": 4,
 "nbformat_minor": 2
}
